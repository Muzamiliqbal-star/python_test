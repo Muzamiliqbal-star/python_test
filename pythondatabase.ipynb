{
 "cells": [
  {
   "cell_type": "code",
   "execution_count": 2,
   "metadata": {},
   "outputs": [],
   "source": [
    "\n",
    "#Text Type:\tstr\n",
    "#Numeric Types:\tint, float, complex\n",
    "#Sequence Types:\tlist, tuple, range\n",
    "#Mapping Type:\tdict\n",
    "#Set Types:\tset, frozenset\n",
    "#Boolean Type:\tbool\n",
    "#$Binary Types:\tbytes, bytearray, memoryview\n",
    "#None Type:\tNoneType"
   ]
  },
  {
   "cell_type": "code",
   "execution_count": 3,
   "metadata": {},
   "outputs": [
    {
     "name": "stdout",
     "output_type": "stream",
     "text": [
      "<class 'int'>\n"
     ]
    }
   ],
   "source": [
    "#Example\n",
    "x = 5\n",
    "print(type(x))"
   ]
  },
  {
   "cell_type": "code",
   "execution_count": 4,
   "metadata": {},
   "outputs": [],
   "source": [
    "\n",
    "#Example\tData Type\tTry it\n",
    "#x = \"Hello World\"\tstr\t\n",
    "#x = 20\tint\t\n",
    "#x = 20.5\tfloat\t\n",
    "#x = 1j\tcomplex\t\n",
    "#x = [\"apple\", \"banana\", \"cherry\"]\tlist\t\n",
    "#x = (\"apple\", \"banana\", \"cherry\")\ttuple\t\n",
    "#x = range(6)\trange\t\n",
    "#x = {\"name\" : \"John\", \"age\" : 36}\tdict\t\n",
    "#x = {\"apple\", \"banana\", \"cherry\"}\tset\t\n",
    "#x = frozenset({\"apple\", \"banana\", \"cherry\"})\tfrozenset\t\n",
    "#x = True\tbool\t\n",
    "#x = b\"Hello\"\tbytes\t\n",
    "#x = bytearray(5)\tbytearray\t\n",
    "#x = memoryview(bytes(5))\tmemoryview"
   ]
  }
 ],
 "metadata": {
  "kernelspec": {
   "display_name": "Python 3",
   "language": "python",
   "name": "python3"
  },
  "language_info": {
   "codemirror_mode": {
    "name": "ipython",
    "version": 3
   },
   "file_extension": ".py",
   "mimetype": "text/x-python",
   "name": "python",
   "nbconvert_exporter": "python",
   "pygments_lexer": "ipython3",
   "version": "3.12.3"
  }
 },
 "nbformat": 4,
 "nbformat_minor": 2
}
